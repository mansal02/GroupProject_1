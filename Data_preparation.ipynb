{
  "cells": [
    {
      "cell_type": "code",
      "execution_count": null,
      "metadata": {
        "colab": {
          "base_uri": "https://localhost:8080/"
        },
        "id": "bhjkGDlXMMmh",
        "outputId": "1efde9ce-754c-4488-a5d5-fe02aee08c7a"
      },
      "outputs": [],
      "source": [
        "#pip install icrawler"
      ]
    },
    {
      "cell_type": "code",
      "execution_count": null,
      "metadata": {
        "colab": {
          "base_uri": "https://localhost:8080/"
        },
        "id": "2e3ZpUPwPQa2",
        "outputId": "3a27812a-4745-409d-c6b3-0558ca2720dc"
      },
      "outputs": [],
      "source": [
        "from icrawler.builtin import BingImageCrawler, GoogleImageCrawler, BaiduImageCrawler\n",
        "\n",
        "import os\n",
        "\n",
        "# List of cattle breeds\n",
        "breeds = [\n",
        "    \"Holstein cow\", \"Jersey cow\", \"Angus cow\", \"Brahman cow\", \"Hereford cow\",\n",
        "    \"Simmental cow\", \"Limousin cow\", \"Guernsey cow\", \"Charolais cow\", \"Ayrshire cow\"\n",
        "]\n",
        "\n",
        "# Directory to save images\n",
        "base_dir = \"cattle_dataset\"\n",
        "os.makedirs(base_dir, exist_ok=True)\n",
        "\n",
        "# Download ~500 images per breed\n",
        "for breed in breeds:\n",
        "    folder_name = breed.replace(\" \", \"_\")\n",
        "    save_path = os.path.join(base_dir, folder_name)\n",
        "    os.makedirs(save_path, exist_ok=True)\n",
        "    total_images_saved = 0  # Initialize total images saved for the breed\n",
        "\n",
        "    # Bing images\n",
        "    crawler = BingImageCrawler(storage={'root_dir': save_path})\n",
        "    crawler.crawl(keyword=breed, max_num=1000)\n",
        "    print(f\"Downloaded images for {breed}\")\n",
        "\n",
        "    # Google images\n",
        "    google_crawler = GoogleImageCrawler(storage={'root_dir': save_path})\n",
        "    google_crawler.crawl(keyword=breed, max_num=1000)\n",
        "    print(f\"Downloaded ~1000 images for {breed} from Google\")\n",
        "\n",
        "    # Baidu images\n",
        "    baidu_crawler = BaiduImageCrawler(storage={'root_dir': save_path})\n",
        "    baidu_crawler.crawl(keyword=breed, max_num=1000)   \n",
        "    print(f\"Downloaded ~1000 images for {breed} from Baidu\")\n",
        "\n"
      ]
    },
    {
      "cell_type": "code",
      "execution_count": null,
      "metadata": {
        "id": "2BV_E-MlZnwF"
      },
      "outputs": [],
      "source": [
        "from PIL import Image\n",
        "import os\n",
        "\n",
        "def resize_images(input_folder):\n",
        "    for folder in os.listdir(input_folder):\n",
        "        folder_path = os.path.join(input_folder, folder)\n",
        "        for img_name in os.listdir(folder_path):\n",
        "            img_path = os.path.join(folder_path, img_name)\n",
        "            try:\n",
        "                img = Image.open(img_path)\n",
        "                img = img.resize((224, 224))\n",
        "                img.save(img_path)\n",
        "            except:\n",
        "                os.remove(img_path)  # remove corrupted images\n",
        "\n",
        "resize_images(\"cattle_dataset\")\n"
      ]
    },
    {
      "cell_type": "code",
      "execution_count": null,
      "metadata": {
        "id": "aGVXwf8CbEDD"
      },
      "outputs": [],
      "source": [
        "import os\n",
        "import shutil\n",
        "from sklearn.model_selection import train_test_split\n",
        "\n",
        "src_folder = \"cattle_dataset\"\n",
        "dst_folder = \"dataset\"\n",
        "splits = ['train', 'val', 'test']\n",
        "split_ratios = [0.7, 0.15, 0.15]  # 70% train, 15% val, 15% test\n",
        "\n",
        "for breed in os.listdir(src_folder):\n",
        "    breed_path = os.path.join(src_folder, breed)\n",
        "    images = os.listdir(breed_path)\n",
        "    train, temp = train_test_split(images, test_size=0.3, random_state=42)\n",
        "    val, test = train_test_split(temp, test_size=0.5, random_state=42)\n",
        "\n",
        "    for split, files in zip(splits, [train, val, test]):\n",
        "        split_path = os.path.join(dst_folder, split, breed)\n",
        "        os.makedirs(split_path, exist_ok=True)\n",
        "        for file in files:\n",
        "            shutil.copy(os.path.join(breed_path, file), os.path.join(split_path, file))\n"
      ]
    },
    {
      "cell_type": "code",
      "execution_count": null,
      "metadata": {
        "id": "l0yNLkoVbNED"
      },
      "outputs": [],
      "source": [
        "import json\n",
        "\n",
        "# Prepare a dictionary to store the dataset structure\n",
        "dataset_info = {}\n",
        "\n",
        "for split in splits:\n",
        "    split_dir = os.path.join(dst_folder, split)\n",
        "    dataset_info[split] = {}\n",
        "    for breed in os.listdir(split_dir):\n",
        "        breed_dir = os.path.join(split_dir, breed)\n",
        "        images = os.listdir(breed_dir)\n",
        "        dataset_info[split][breed] = images\n",
        "\n",
        "# Save the dataset structure to a JSON file\n",
        "with open(os.path.join(dst_folder, \"dataset_info.json\"), \"w\") as f:\n",
        "    json.dump(dataset_info, f, indent=2)\n",
        "\n",
        "\n",
        "print(\"Dataset structure saved to dataset_info.json\")\n",
        "\n"
      ]
    }
  ],
  "metadata": {
    "colab": {
      "provenance": []
    },
    "kernelspec": {
      "display_name": "ISB46703",
      "language": "python",
      "name": "python3"
    },
    "language_info": {
      "codemirror_mode": {
        "name": "ipython",
        "version": 3
      },
      "file_extension": ".py",
      "mimetype": "text/x-python",
      "name": "python",
      "nbconvert_exporter": "python",
      "pygments_lexer": "ipython3",
      "version": "3.6.8"
    }
  },
  "nbformat": 4,
  "nbformat_minor": 0
}

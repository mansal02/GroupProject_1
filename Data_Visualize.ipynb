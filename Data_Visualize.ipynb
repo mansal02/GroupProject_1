{
 "cells": [
  {
   "cell_type": "code",
   "execution_count": 2,
   "id": "ff95c615",
   "metadata": {},
   "outputs": [
    {
     "data": {
      "text/plain": [
       "[]"
      ]
     },
     "execution_count": 2,
     "metadata": {},
     "output_type": "execute_result"
    }
   ],
   "source": [
    "import tensorflow as tf\n",
    "tf.config.experimental.list_physical_devices('GPU')"
   ]
  },
  {
   "cell_type": "code",
   "execution_count": 15,
   "id": "70cfd9b5",
   "metadata": {},
   "outputs": [],
   "source": [
    "import numpy as np\n",
    "import pandas as pd\n",
    "import pickle\n",
    "import matplotlib.pyplot as plt"
   ]
  },
  {
   "cell_type": "code",
   "execution_count": 17,
   "id": "6e4f0d9b",
   "metadata": {},
   "outputs": [],
   "source": [
    "train_path = './dataset/train'\n",
    "valid_path = './dataset/val'\n",
    "test_path = './dataset/test'\n",
    "\n",
    "breeds = [\n",
    "    \"Holstein_cow\", \"Jersey_cow\", \"Angus_cow\", \"Brahman_cow\", \"Hereford_cow\",\n",
    "    \"Simmental_cow\", \"Limousin_cow\", \"Guernsey_cow\", \"Charolais_cow\", \"Ayrshire_cow\"\n",
    "]"
   ]
  },
  {
   "cell_type": "code",
   "execution_count": 18,
   "id": "76d4f70c",
   "metadata": {},
   "outputs": [
    {
     "name": "stdout",
     "output_type": "stream",
     "text": [
      "Found 2678 images belonging to 10 classes.\n",
      "Found 912 images belonging to 10 classes.\n",
      "Found 906 images belonging to 10 classes.\n"
     ]
    }
   ],
   "source": [
    "from tensorflow.keras.preprocessing.image import ImageDataGenerator\n",
    "train_batches = ImageDataGenerator(preprocessing_function=tf.keras.applications.vgg16.preprocess_input)\\\n",
    "                .flow_from_directory(directory=train_path, target_size=(224,224), classes=breeds, batch_size = 10)\n",
    "valid_batches = ImageDataGenerator(preprocessing_function=tf.keras.applications.vgg16.preprocess_input)\\\n",
    "                .flow_from_directory(directory=valid_path, target_size=(224,224), classes=breeds, batch_size = 10)\n",
    "test_batches = ImageDataGenerator(preprocessing_function=tf.keras.applications.vgg16.preprocess_input)\\\n",
    "                .flow_from_directory(directory=test_path, target_size=(224,224), classes=breeds, batch_size = 10, shuffle=False)"
   ]
  },
  {
   "cell_type": "code",
   "execution_count": null,
   "id": "b310465f",
   "metadata": {},
   "outputs": [],
   "source": [
    "# Load results from all models into a dictionary\n",
    "results = {}\n",
    "with open('results_resnet50.pkl', 'rb') as f:\n",
    "    results['ResNet50'] = pickle.load(f)\n",
    "with open('results_densenet121.pkl', 'rb') as f:\n",
    "    results['DenseNet121'] = pickle.load(f)\n",
    "with open('mobilenetv3_results.pkl', 'rb') as f:\n",
    "    results['MobileNetV3Large'] = pickle.load(f)\n"
   ]
  },
  {
   "cell_type": "code",
   "execution_count": null,
   "id": "1bc07dba",
   "metadata": {},
   "outputs": [],
   "source": [
    "from sklearn.metrics import confusion_matrix, ConfusionMatrixDisplay\n",
    "\n",
    "# Visualize training loss and accuracy for each model\n",
    "for model_name, res in results.items():\n",
    "    history = res['history']\n",
    "    plt.figure(figsize=(12, 4))\n",
    "    # Loss\n",
    "    plt.subplot(1, 2, 1)\n",
    "    plt.plot(history.history['loss'], label='Train Loss')\n",
    "    if 'val_loss' in history.history:\n",
    "        plt.plot(history.history['val_loss'], label='Val Loss')\n",
    "    plt.title(f'{model_name} Loss')\n",
    "    plt.xlabel('Epoch')\n",
    "    plt.ylabel('Loss')\n",
    "    plt.legend()\n",
    "    # Accuracy\n",
    "    plt.subplot(1, 2, 2)\n",
    "    plt.plot(history.history['accuracy'], label='Train Acc')\n",
    "    if 'val_accuracy' in history.history:\n",
    "        plt.plot(history.history['val_accuracy'], label='Val Acc')\n",
    "    plt.title(f'{model_name} Accuracy')\n",
    "    plt.xlabel('Epoch')\n",
    "    plt.ylabel('Accuracy')\n",
    "    plt.legend()\n",
    "    plt.show()"
   ]
  },
  {
   "cell_type": "code",
   "execution_count": null,
   "id": "af520094",
   "metadata": {},
   "outputs": [],
   "source": [
    "# Display confusion matrix for each model on validation set\n",
    "for model_name, res in results.items():\n",
    "    y_true = np.argmax(res['val_labels'], axis=1)\n",
    "    y_pred = np.argmax(res['val_preds'], axis=1)\n",
    "    cm = confusion_matrix(y_true, y_pred)\n",
    "    disp = ConfusionMatrixDisplay(confusion_matrix=cm, display_labels=breeds)\n",
    "    plt.figure(figsize=(8, 8))\n",
    "    disp.plot(cmap='Blues', xticks_rotation=45)\n",
    "    plt.title(f'Confusion Matrix: {model_name}')\n",
    "    plt.show()"
   ]
  },
  {
   "cell_type": "code",
   "execution_count": null,
   "id": "6c32751a",
   "metadata": {},
   "outputs": [],
   "source": [
    "# Evaluate all models on the test set\n",
    "for model_name, res in results.items():\n",
    "    model = None\n",
    "    if model_name == 'ResNet50':\n",
    "        model = resnet50_model\n",
    "    elif model_name == 'DenseNet121':\n",
    "        model = densenet121_model\n",
    "    elif model_name == 'MobileNetV3Large':\n",
    "        model = mobilenetv3_model\n",
    "    if model is not None:\n",
    "        test_imgs, test_labels = next(test_batches)\n",
    "        test_preds = model.predict(test_imgs)\n",
    "        test_acc = np.mean(np.argmax(test_preds, axis=1) == np.argmax(test_labels, axis=1))\n",
    "        test_mAP = mean_average_precision(test_labels, test_preds)\n",
    "        print(f\"{model_name} Test Accuracy: {test_acc:.4f}, Test mAP: {test_mAP:.4f}\")"
   ]
  },
  {
   "cell_type": "code",
   "execution_count": null,
   "id": "7faabac8",
   "metadata": {},
   "outputs": [
    {
     "ename": "FileNotFoundError",
     "evalue": "[Errno 2] No such file or directory: 'results_resnet50.pkl'",
     "output_type": "error",
     "traceback": [
      "\u001b[1;31m---------------------------------------------------------------------------\u001b[0m",
      "\u001b[1;31mFileNotFoundError\u001b[0m                         Traceback (most recent call last)",
      "\u001b[1;32m<ipython-input-16-ac3d5233ee8c>\u001b[0m in \u001b[0;36m<module>\u001b[1;34m\u001b[0m\n\u001b[0;32m      1\u001b[0m \u001b[1;31m# Load results from all models into a dictionary\u001b[0m\u001b[1;33m\u001b[0m\u001b[1;33m\u001b[0m\u001b[1;33m\u001b[0m\u001b[0m\n\u001b[0;32m      2\u001b[0m \u001b[0mresults\u001b[0m \u001b[1;33m=\u001b[0m \u001b[1;33m{\u001b[0m\u001b[1;33m}\u001b[0m\u001b[1;33m\u001b[0m\u001b[1;33m\u001b[0m\u001b[0m\n\u001b[1;32m----> 3\u001b[1;33m \u001b[1;32mwith\u001b[0m \u001b[0mopen\u001b[0m\u001b[1;33m(\u001b[0m\u001b[1;34m'results_resnet50.pkl'\u001b[0m\u001b[1;33m,\u001b[0m \u001b[1;34m'rb'\u001b[0m\u001b[1;33m)\u001b[0m \u001b[1;32mas\u001b[0m \u001b[0mf\u001b[0m\u001b[1;33m:\u001b[0m\u001b[1;33m\u001b[0m\u001b[1;33m\u001b[0m\u001b[0m\n\u001b[0m\u001b[0;32m      4\u001b[0m     \u001b[0mresults\u001b[0m\u001b[1;33m[\u001b[0m\u001b[1;34m'ResNet50'\u001b[0m\u001b[1;33m]\u001b[0m \u001b[1;33m=\u001b[0m \u001b[0mpickle\u001b[0m\u001b[1;33m.\u001b[0m\u001b[0mload\u001b[0m\u001b[1;33m(\u001b[0m\u001b[0mf\u001b[0m\u001b[1;33m)\u001b[0m\u001b[1;33m\u001b[0m\u001b[1;33m\u001b[0m\u001b[0m\n\u001b[0;32m      5\u001b[0m \u001b[1;32mwith\u001b[0m \u001b[0mopen\u001b[0m\u001b[1;33m(\u001b[0m\u001b[1;34m'results_densenet121.pkl'\u001b[0m\u001b[1;33m,\u001b[0m \u001b[1;34m'rb'\u001b[0m\u001b[1;33m)\u001b[0m \u001b[1;32mas\u001b[0m \u001b[0mf\u001b[0m\u001b[1;33m:\u001b[0m\u001b[1;33m\u001b[0m\u001b[1;33m\u001b[0m\u001b[0m\n",
      "\u001b[1;31mFileNotFoundError\u001b[0m: [Errno 2] No such file or directory: 'results_resnet50.pkl'"
     ]
    }
   ],
   "source": [
    "# Final conclusion\n",
    "print(\"\\nFinal Conclusion:\")\n",
    "summary = []\n",
    "for model_name, res in results.items():\n",
    "    summary.append({\n",
    "        'Model': model_name,\n",
    "        'Training Time (s)': res['training_time_sec'],\n",
    "        'Validation Accuracy': res['val_accuracy'],\n",
    "        'Validation mAP': res['val_mAP']\n",
    "    })\n",
    "df_summary = pd.DataFrame(summary)\n",
    "display(df_summary.sort_values(by=['Validation Accuracy', 'Validation mAP'], ascending=False))\n",
    "print(\"Based on the above metrics (accuracy, mAP, training time), select the model with the best trade-off for your application. Typically, the model with the highest accuracy and mAP, and reasonable training time, is preferred.\")"
   ]
  }
 ],
 "metadata": {
  "kernelspec": {
   "display_name": "ISB46703",
   "language": "python",
   "name": "python3"
  },
  "language_info": {
   "codemirror_mode": {
    "name": "ipython",
    "version": 3
   },
   "file_extension": ".py",
   "mimetype": "text/x-python",
   "name": "python",
   "nbconvert_exporter": "python",
   "pygments_lexer": "ipython3",
   "version": "3.6.8"
  }
 },
 "nbformat": 4,
 "nbformat_minor": 5
}

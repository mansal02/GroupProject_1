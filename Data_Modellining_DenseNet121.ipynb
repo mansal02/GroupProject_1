{
 "cells": [
  {
   "cell_type": "code",
   "execution_count": 1,
   "id": "61fd7a9b",
   "metadata": {},
   "outputs": [],
   "source": [
    "import tensorflow as tf"
   ]
  },
  {
   "cell_type": "code",
   "execution_count": 2,
   "id": "8ed19745",
   "metadata": {},
   "outputs": [
    {
     "name": "stdout",
     "output_type": "stream",
     "text": [
      "GPUs available: [PhysicalDevice(name='/physical_device:GPU:0', device_type='GPU')]\n",
      "TensorFlow is set to use GPU.\n"
     ]
    }
   ],
   "source": [
    "# Check if GPU is available and set TensorFlow to use it\n",
    "physical_devices = tf.config.list_physical_devices('GPU')\n",
    "if physical_devices:\n",
    "    print(\"GPUs available:\", physical_devices)\n",
    "    try:\n",
    "        for device in physical_devices:\n",
    "            tf.config.experimental.set_memory_growth(device, True)\n",
    "        print(\"TensorFlow is set to use GPU.\")\n",
    "    except Exception as e:\n",
    "        print(\"Could not set memory growth:\", e)\n",
    "else:\n",
    "    print(\"No GPU found. Running on CPU.\")"
   ]
  },
  {
   "cell_type": "code",
   "execution_count": 3,
   "id": "eb412370",
   "metadata": {},
   "outputs": [],
   "source": [
    "\n",
    "from tensorflow import keras    \n",
    "from tensorflow.keras.models import Sequential\n",
    "from tensorflow.keras.layers import *\n",
    "from tensorflow.keras.optimizers import Adam\n",
    "from tensorflow.keras.callbacks import EarlyStopping\n",
    "from keras.preprocessing.image import ImageDataGenerator\n",
    "\n",
    "import pickle\n",
    "import numpy as np\n",
    "import matplotlib.pyplot as plt\n",
    "import pandas as pd\n",
    "import seaborn as sns\n",
    "import os"
   ]
  },
  {
   "cell_type": "code",
   "execution_count": 4,
   "id": "cab9ea8f",
   "metadata": {},
   "outputs": [
    {
     "name": "stdout",
     "output_type": "stream",
     "text": [
      "Found 2802 images belonging to 10 classes.\n",
      "Found 1069 images belonging to 10 classes.\n",
      "Found 1083 images belonging to 10 classes.\n"
     ]
    }
   ],
   "source": [
    "train_path = './dataset/train'\n",
    "valid_path = './dataset/val'\n",
    "test_path = './dataset/test'\n",
    "\n",
    "breeds = [\n",
    "    \"Holstein_cow\", \"Jersey_cow\", \"Angus_cow\", \"Brahman_cow\", \"Hereford_cow\",\n",
    "    \"Simmental_cow\", \"Limousin_cow\", \"Guernsey_cow\", \"Charolais_cow\", \"Ayrshire_cow\"\n",
    "]\n",
    "\n",
    "from tensorflow.keras.applications.densenet import preprocess_input\n",
    "\n",
    "train_batches = ImageDataGenerator(preprocessing_function=preprocess_input)\\\n",
    "    .flow_from_directory(directory=train_path, target_size=(224,224), classes=breeds, batch_size=10)\n",
    "valid_batches = ImageDataGenerator(preprocessing_function=preprocess_input)\\\n",
    "    .flow_from_directory(directory=valid_path, target_size=(224,224), classes=breeds, batch_size=10)\n",
    "test_batches = ImageDataGenerator(preprocessing_function=preprocess_input)\\\n",
    "    .flow_from_directory(directory=test_path, target_size=(224,224), classes=breeds, batch_size=10, shuffle=False)"
   ]
  },
  {
   "cell_type": "code",
   "execution_count": 5,
   "id": "28b81f2f",
   "metadata": {},
   "outputs": [
    {
     "name": "stdout",
     "output_type": "stream",
     "text": [
      "Shape of the image batch:  (10, 224, 224, 3)\n",
      "Shape of the label batch:  (10, 10)\n"
     ]
    }
   ],
   "source": [
    "assert train_batches.n >= 1000\n",
    "assert valid_batches.n >= 300\n",
    "assert test_batches.n >= 150\n",
    "assert train_batches.num_classes == valid_batches.num_classes == test_batches.num_classes == 10\n",
    "assert train_batches.batch_size == valid_batches.batch_size == test_batches.batch_size == 10\n",
    "assert train_batches.class_indices == valid_batches.class_indices == test_batches.class_indices\n",
    "\n",
    "imgs , labels = next(train_batches)\n",
    "print(\"Shape of the image batch: \", imgs.shape)\n",
    "print(\"Shape of the label batch: \", labels.shape)"
   ]
  },
  {
   "cell_type": "code",
   "execution_count": 6,
   "id": "a3cf9456",
   "metadata": {},
   "outputs": [
    {
     "name": "stdout",
     "output_type": "stream",
     "text": [
      "[[0. 0. 0. 0. 1. 0. 0. 0. 0. 0.]\n",
      " [0. 0. 0. 0. 0. 0. 1. 0. 0. 0.]\n",
      " [0. 0. 0. 0. 0. 0. 0. 1. 0. 0.]\n",
      " [0. 0. 0. 0. 0. 0. 1. 0. 0. 0.]\n",
      " [0. 1. 0. 0. 0. 0. 0. 0. 0. 0.]\n",
      " [0. 0. 0. 0. 0. 0. 0. 0. 1. 0.]\n",
      " [0. 0. 0. 0. 0. 0. 0. 1. 0. 0.]\n",
      " [1. 0. 0. 0. 0. 0. 0. 0. 0. 0.]\n",
      " [0. 0. 0. 0. 0. 0. 1. 0. 0. 0.]\n",
      " [0. 0. 0. 0. 0. 0. 0. 0. 0. 1.]]\n"
     ]
    }
   ],
   "source": [
    "def plotImages(images_arr):\n",
    "    fig, axes = plt.subplots(1, 10, figsize = (20, 20))\n",
    "    axes = axes.flatten()\n",
    "    for img, ax in zip(images_arr,axes):\n",
    "        ax.imshow(img)\n",
    "        ax.axis('off')\n",
    "    plt.tight_layout()\n",
    "    plt.show()\n",
    "    plotImages(imgs)\n",
    "print(labels)"
   ]
  },
  {
   "cell_type": "code",
   "execution_count": 7,
   "id": "cf2e4454",
   "metadata": {},
   "outputs": [],
   "source": [
    "model = Sequential([\n",
    "    Conv2D(filters=32,kernel_size=(3,3),activation='relu', padding='same',input_shape=(224,224,3)),\n",
    "    MaxPool2D(pool_size=(2,2),strides=2),\n",
    "    Conv2D(filters=64, kernel_size = (3,3), activation = 'relu', padding = 'same'),\n",
    "    MaxPool2D(pool_size=(2,2), strides=2),\n",
    "    Flatten(),\n",
    "    Dense(units=10, activation='softmax'),\n",
    "])"
   ]
  },
  {
   "cell_type": "code",
   "execution_count": 8,
   "id": "f41b4f1c",
   "metadata": {},
   "outputs": [
    {
     "name": "stdout",
     "output_type": "stream",
     "text": [
      "INFO:tensorflow:Mixed precision compatibility check (mixed_float16): OK\n",
      "Your GPU will likely run quickly with dtype policy mixed_float16 as it has compute capability of at least 7.0. Your GPU: NVIDIA GeForce GTX 1660, compute capability 7.5\n"
     ]
    }
   ],
   "source": [
    "tf.keras.mixed_precision.set_global_policy('mixed_float16')\n",
    "import time\n",
    "from tensorflow.keras.applications import ResNet50, DenseNet121, MobileNetV3Large\n",
    "from tensorflow.keras.layers import GlobalAveragePooling2D, Dense\n",
    "from tensorflow.keras.models import Model"
   ]
  },
  {
   "cell_type": "code",
   "execution_count": 9,
   "id": "d32cf5e3",
   "metadata": {},
   "outputs": [],
   "source": [
    "def build_model(base_model_class, input_shape, num_classes):\n",
    "    base_model = base_model_class(weights='imagenet', include_top=False, input_shape=input_shape)\n",
    "    x = GlobalAveragePooling2D()(base_model.output)\n",
    "    output = Dense(num_classes, activation='softmax')(x)\n",
    "    model = Model(inputs=base_model.input, outputs=output)\n",
    "    optimizer = Adam(learning_rate=0.001)  \n",
    "    model.compile(optimizer=optimizer, loss='categorical_crossentropy', metrics=['accuracy'])\n",
    "    return model\n",
    "\n",
    "# Helper function to calculate mAP\n",
    "def mean_average_precision(y_true, y_pred):\n",
    "    # y_true and y_pred should be numpy arrays\n",
    "    # This is a simple implementation for multiclass, multi-label\n",
    "    import sklearn.metrics\n",
    "    return sklearn.metrics.average_precision_score(y_true, y_pred, average='macro')\n",
    "\n",
    "input_shape = (224, 224, 3)\n",
    "num_classes = len(breeds)\n",
    "epochs = 50\n",
    "results = {}"
   ]
  },
  {
   "cell_type": "code",
   "execution_count": 10,
   "id": "3b3f0481",
   "metadata": {},
   "outputs": [
    {
     "name": "stdout",
     "output_type": "stream",
     "text": [
      "Training DenseNet121...\n",
      "Epoch 1/50\n",
      "281/281 - 243s - loss: 1.9434 - accuracy: 0.3451 - val_loss: 7.3778 - val_accuracy: 0.1431 - 243s/epoch - 864ms/step\n",
      "Epoch 2/50\n",
      "281/281 - 221s - loss: 1.6850 - accuracy: 0.4293 - val_loss: 3.3056 - val_accuracy: 0.1581 - 221s/epoch - 788ms/step\n",
      "Epoch 3/50\n",
      "281/281 - 221s - loss: 1.5488 - accuracy: 0.4939 - val_loss: 3.6805 - val_accuracy: 0.3358 - 221s/epoch - 786ms/step\n",
      "Epoch 4/50\n",
      "281/281 - 223s - loss: 1.3313 - accuracy: 0.5678 - val_loss: 3.9324 - val_accuracy: 0.2778 - 223s/epoch - 795ms/step\n",
      "Epoch 5/50\n",
      "281/281 - 225s - loss: 1.1613 - accuracy: 0.6067 - val_loss: 1.7244 - val_accuracy: 0.5042 - 225s/epoch - 799ms/step\n",
      "Epoch 6/50\n",
      "281/281 - 226s - loss: 1.0500 - accuracy: 0.6610 - val_loss: 1.4096 - val_accuracy: 0.5313 - 226s/epoch - 803ms/step\n",
      "Epoch 7/50\n",
      "281/281 - 224s - loss: 0.9299 - accuracy: 0.7020 - val_loss: 1.6941 - val_accuracy: 0.5921 - 224s/epoch - 798ms/step\n",
      "Epoch 8/50\n",
      "281/281 - 226s - loss: 0.8256 - accuracy: 0.7323 - val_loss: 0.8110 - val_accuracy: 0.7418 - 226s/epoch - 803ms/step\n",
      "Epoch 9/50\n",
      "281/281 - 225s - loss: 0.7408 - accuracy: 0.7612 - val_loss: 0.7526 - val_accuracy: 0.7615 - 225s/epoch - 801ms/step\n",
      "Epoch 10/50\n",
      "281/281 - 225s - loss: 0.6016 - accuracy: 0.8059 - val_loss: 1.0430 - val_accuracy: 0.7240 - 225s/epoch - 799ms/step\n",
      "Epoch 11/50\n",
      "281/281 - 220s - loss: 0.5217 - accuracy: 0.8326 - val_loss: 0.5491 - val_accuracy: 0.8438 - 220s/epoch - 782ms/step\n",
      "Epoch 12/50\n",
      "281/281 - 219s - loss: 0.4758 - accuracy: 0.8437 - val_loss: 0.9674 - val_accuracy: 0.7558 - 219s/epoch - 781ms/step\n",
      "Epoch 13/50\n",
      "281/281 - 221s - loss: 0.4532 - accuracy: 0.8515 - val_loss: 1.0207 - val_accuracy: 0.7166 - 221s/epoch - 787ms/step\n",
      "Epoch 14/50\n",
      "281/281 - 220s - loss: 0.3997 - accuracy: 0.8737 - val_loss: 0.9767 - val_accuracy: 0.7671 - 220s/epoch - 783ms/step\n",
      "Epoch 15/50\n",
      "281/281 - 151s - loss: 0.3556 - accuracy: 0.8933 - val_loss: 0.5422 - val_accuracy: 0.8410 - 151s/epoch - 539ms/step\n",
      "Epoch 16/50\n",
      "281/281 - 126s - loss: 0.3228 - accuracy: 0.9029 - val_loss: 1.0111 - val_accuracy: 0.7633 - 126s/epoch - 448ms/step\n",
      "Epoch 17/50\n",
      "281/281 - 126s - loss: 0.3681 - accuracy: 0.8804 - val_loss: 0.5238 - val_accuracy: 0.8831 - 126s/epoch - 448ms/step\n",
      "Epoch 18/50\n",
      "281/281 - 126s - loss: 0.3062 - accuracy: 0.9090 - val_loss: 0.6206 - val_accuracy: 0.8260 - 126s/epoch - 447ms/step\n",
      "Epoch 19/50\n",
      "281/281 - 124s - loss: 0.2481 - accuracy: 0.9276 - val_loss: 0.4245 - val_accuracy: 0.9046 - 124s/epoch - 441ms/step\n",
      "Epoch 20/50\n",
      "281/281 - 119s - loss: 0.2569 - accuracy: 0.9226 - val_loss: 1.8017 - val_accuracy: 0.6922 - 119s/epoch - 425ms/step\n",
      "Epoch 21/50\n",
      "281/281 - 118s - loss: 0.2436 - accuracy: 0.9218 - val_loss: 0.9361 - val_accuracy: 0.7774 - 118s/epoch - 421ms/step\n",
      "Epoch 22/50\n",
      "281/281 - 120s - loss: 0.2005 - accuracy: 0.9386 - val_loss: 0.4178 - val_accuracy: 0.8868 - 120s/epoch - 427ms/step\n",
      "Epoch 23/50\n",
      "281/281 - 121s - loss: 0.2211 - accuracy: 0.9279 - val_loss: 0.5339 - val_accuracy: 0.8578 - 121s/epoch - 430ms/step\n",
      "Epoch 24/50\n",
      "281/281 - 121s - loss: 0.2579 - accuracy: 0.9218 - val_loss: 0.5346 - val_accuracy: 0.8616 - 121s/epoch - 432ms/step\n",
      "Epoch 25/50\n",
      "281/281 - 121s - loss: 0.2532 - accuracy: 0.9204 - val_loss: 0.6010 - val_accuracy: 0.8503 - 121s/epoch - 432ms/step\n",
      "Epoch 26/50\n",
      "281/281 - 121s - loss: 0.1696 - accuracy: 0.9472 - val_loss: 0.5984 - val_accuracy: 0.8410 - 121s/epoch - 432ms/step\n",
      "Epoch 27/50\n",
      "281/281 - 121s - loss: 0.1714 - accuracy: 0.9440 - val_loss: 0.5998 - val_accuracy: 0.8756 - 121s/epoch - 430ms/step\n",
      "Epoch 28/50\n",
      "281/281 - 120s - loss: 0.1583 - accuracy: 0.9536 - val_loss: 0.5083 - val_accuracy: 0.8952 - 120s/epoch - 427ms/step\n",
      "Epoch 29/50\n",
      "281/281 - 120s - loss: 0.1459 - accuracy: 0.9554 - val_loss: 0.3132 - val_accuracy: 0.9317 - 120s/epoch - 428ms/step\n",
      "Epoch 30/50\n",
      "281/281 - 121s - loss: 0.1597 - accuracy: 0.9497 - val_loss: 0.6827 - val_accuracy: 0.8597 - 121s/epoch - 429ms/step\n",
      "Epoch 31/50\n",
      "281/281 - 121s - loss: 0.1159 - accuracy: 0.9647 - val_loss: 0.6646 - val_accuracy: 0.8569 - 121s/epoch - 430ms/step\n",
      "Epoch 32/50\n",
      "281/281 - 121s - loss: 0.1695 - accuracy: 0.9447 - val_loss: 1.0785 - val_accuracy: 0.7418 - 121s/epoch - 430ms/step\n",
      "Epoch 33/50\n",
      "281/281 - 121s - loss: 0.2312 - accuracy: 0.9293 - val_loss: 0.3635 - val_accuracy: 0.9121 - 121s/epoch - 431ms/step\n",
      "Epoch 34/50\n",
      "281/281 - 121s - loss: 0.1471 - accuracy: 0.9543 - val_loss: 0.4271 - val_accuracy: 0.9046 - 121s/epoch - 430ms/step\n",
      "Epoch 35/50\n",
      "281/281 - 121s - loss: 0.1387 - accuracy: 0.9590 - val_loss: 0.3312 - val_accuracy: 0.9252 - 121s/epoch - 430ms/step\n",
      "Epoch 36/50\n",
      "281/281 - 121s - loss: 0.1445 - accuracy: 0.9607 - val_loss: 0.3354 - val_accuracy: 0.9261 - 121s/epoch - 430ms/step\n",
      "Epoch 37/50\n",
      "281/281 - 121s - loss: 0.0961 - accuracy: 0.9675 - val_loss: 0.3462 - val_accuracy: 0.9317 - 121s/epoch - 430ms/step\n",
      "Epoch 38/50\n",
      "281/281 - 121s - loss: 0.1489 - accuracy: 0.9550 - val_loss: 1.9568 - val_accuracy: 0.6492 - 121s/epoch - 431ms/step\n",
      "Epoch 39/50\n",
      "281/281 - 121s - loss: 0.1465 - accuracy: 0.9575 - val_loss: 0.6910 - val_accuracy: 0.8531 - 121s/epoch - 429ms/step\n",
      "Epoch 40/50\n",
      "281/281 - 120s - loss: 0.1674 - accuracy: 0.9447 - val_loss: 0.6865 - val_accuracy: 0.8316 - 120s/epoch - 427ms/step\n",
      "Epoch 41/50\n",
      "281/281 - 120s - loss: 0.1218 - accuracy: 0.9625 - val_loss: 0.3758 - val_accuracy: 0.9224 - 120s/epoch - 428ms/step\n",
      "Epoch 42/50\n",
      "281/281 - 121s - loss: 0.1318 - accuracy: 0.9618 - val_loss: 0.3754 - val_accuracy: 0.9046 - 121s/epoch - 429ms/step\n",
      "Epoch 43/50\n",
      "281/281 - 121s - loss: 0.1577 - accuracy: 0.9507 - val_loss: 0.7289 - val_accuracy: 0.8606 - 121s/epoch - 430ms/step\n",
      "Epoch 44/50\n",
      "281/281 - 121s - loss: 0.1027 - accuracy: 0.9668 - val_loss: 0.4478 - val_accuracy: 0.9158 - 121s/epoch - 430ms/step\n",
      "Epoch 45/50\n",
      "281/281 - 121s - loss: 0.0828 - accuracy: 0.9714 - val_loss: 0.3954 - val_accuracy: 0.9224 - 121s/epoch - 431ms/step\n",
      "Epoch 46/50\n",
      "281/281 - 121s - loss: 0.1056 - accuracy: 0.9686 - val_loss: 0.9235 - val_accuracy: 0.8279 - 121s/epoch - 431ms/step\n",
      "Epoch 47/50\n",
      "281/281 - 121s - loss: 0.1859 - accuracy: 0.9393 - val_loss: 0.3704 - val_accuracy: 0.9270 - 121s/epoch - 430ms/step\n",
      "Epoch 48/50\n",
      "281/281 - 121s - loss: 0.1316 - accuracy: 0.9604 - val_loss: 0.5759 - val_accuracy: 0.8606 - 121s/epoch - 431ms/step\n",
      "Epoch 49/50\n",
      "281/281 - 121s - loss: 0.0977 - accuracy: 0.9707 - val_loss: 0.5225 - val_accuracy: 0.9158 - 121s/epoch - 431ms/step\n",
      "Epoch 50/50\n",
      "281/281 - 121s - loss: 0.1144 - accuracy: 0.9640 - val_loss: 0.4169 - val_accuracy: 0.9289 - 121s/epoch - 431ms/step\n"
     ]
    }
   ],
   "source": [
    "print(\"Training DenseNet121...\")\n",
    "densenet121_model = build_model(DenseNet121, input_shape, num_classes)\n",
    "start_time = time.time()\n",
    "history = densenet121_model.fit(\n",
    "    train_batches,\n",
    "    validation_data=valid_batches,\n",
    "    epochs=epochs,\n",
    "    verbose=2,\n",
    ")\n",
    "training_time = time.time() - start_time"
   ]
  },
  {
   "cell_type": "code",
   "execution_count": 11,
   "id": "303b34d9",
   "metadata": {},
   "outputs": [
    {
     "name": "stdout",
     "output_type": "stream",
     "text": [
      "1/1 [==============================] - 2s 2s/step\n"
     ]
    },
    {
     "name": "stderr",
     "output_type": "stream",
     "text": [
      "c:\\Users\\Mansal\\anaconda3\\envs\\Mansal\\lib\\site-packages\\sklearn\\metrics\\_ranking.py:1033: UserWarning: No positive class found in y_true, recall is set to one for all thresholds.\n",
      "  warnings.warn(\n",
      "c:\\Users\\Mansal\\anaconda3\\envs\\Mansal\\lib\\site-packages\\sklearn\\metrics\\_ranking.py:1033: UserWarning: No positive class found in y_true, recall is set to one for all thresholds.\n",
      "  warnings.warn(\n",
      "c:\\Users\\Mansal\\anaconda3\\envs\\Mansal\\lib\\site-packages\\sklearn\\metrics\\_ranking.py:1033: UserWarning: No positive class found in y_true, recall is set to one for all thresholds.\n",
      "  warnings.warn(\n"
     ]
    }
   ],
   "source": [
    "val_imgs, val_labels = next(valid_batches)\n",
    "val_preds = densenet121_model.predict(val_imgs)\n",
    "acc = np.mean(np.argmax(val_preds, axis=1) == np.argmax(val_labels, axis=1))\n",
    "mAP = mean_average_precision(val_labels, val_preds)\n",
    "results['DenseNet121'] = {\n",
    "    'training_time_sec': training_time,\n",
    "    'val_accuracy': acc,\n",
    "    'val_mAP': mAP,\n",
    "    'history': history,\n",
    "    'val_imgs': val_imgs,\n",
    "    'val_labels': val_labels,\n",
    "    'val_preds': val_preds\n",
    "}"
   ]
  },
  {
   "cell_type": "code",
   "execution_count": 12,
   "id": "e89ce5df",
   "metadata": {},
   "outputs": [
    {
     "name": "stderr",
     "output_type": "stream",
     "text": [
      "WARNING:absl:Found untraced functions such as _jit_compiled_convolution_op, _jit_compiled_convolution_op, _jit_compiled_convolution_op, _jit_compiled_convolution_op, _jit_compiled_convolution_op while saving (showing 5 of 120). These functions will not be directly callable after loading.\n"
     ]
    },
    {
     "name": "stdout",
     "output_type": "stream",
     "text": [
      "INFO:tensorflow:Assets written to: ram://9e81bad2-4cae-4156-a20a-447411e52e8f/assets\n"
     ]
    },
    {
     "name": "stderr",
     "output_type": "stream",
     "text": [
      "INFO:tensorflow:Assets written to: ram://9e81bad2-4cae-4156-a20a-447411e52e8f/assets\n"
     ]
    }
   ],
   "source": [
    "with open('results_densenet121.pkl', 'wb') as file:\n",
    "    pickle.dump(results, file)"
   ]
  },
  {
   "cell_type": "code",
   "execution_count": 13,
   "id": "e8cb5ffe",
   "metadata": {},
   "outputs": [
    {
     "name": "stdout",
     "output_type": "stream",
     "text": [
      "Model: DenseNet121\n",
      "  Training Time: 7533.18 seconds\n",
      "  Validation Accuracy: 1.0000\n",
      "  Validation mAP: 0.7000\n",
      "----------------------------------------\n"
     ]
    }
   ],
   "source": [
    "for model_name, res in results.items():\n",
    "    print(f\"Model: {model_name}\")\n",
    "    print(f\"  Training Time: {res['training_time_sec']:.2f} seconds\")\n",
    "    print(f\"  Validation Accuracy: {res['val_accuracy']:.4f}\")\n",
    "    print(f\"  Validation mAP: {res['val_mAP']:.4f}\")\n",
    "    print(\"-\" * 40)"
   ]
  }
 ],
 "metadata": {
  "kernelspec": {
   "display_name": "Mansal",
   "language": "python",
   "name": "python3"
  },
  "language_info": {
   "codemirror_mode": {
    "name": "ipython",
    "version": 3
   },
   "file_extension": ".py",
   "mimetype": "text/x-python",
   "name": "python",
   "nbconvert_exporter": "python",
   "pygments_lexer": "ipython3",
   "version": "3.9.23"
  }
 },
 "nbformat": 4,
 "nbformat_minor": 5
}
